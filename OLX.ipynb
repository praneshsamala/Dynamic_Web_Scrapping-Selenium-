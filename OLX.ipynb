{
 "cells": [
  {
   "cell_type": "code",
   "execution_count": 1,
   "id": "93fb1c93",
   "metadata": {},
   "outputs": [],
   "source": [
    "import time\n",
    "from datetime import datetime\n",
    "from selenium import webdriver\n",
    "from selenium.webdriver.chrome.service import Service as ChromiumService\n",
    "from webdriver_manager.chrome import ChromeDriverManager\n",
    "from selenium.webdriver.common.by import By\n",
    "import numpy as np\n",
    "import pandas as pd\n",
    "from selenium.webdriver.common.keys import Keys\n",
    "from selenium.webdriver.common.action_chains import ActionChains"
   ]
  },
  {
   "cell_type": "code",
   "execution_count": 2,
   "id": "7c76a398",
   "metadata": {},
   "outputs": [],
   "source": [
    "driver= webdriver.Chrome(service=ChromiumService(ChromeDriverManager().install()))\n",
    "#driver.get(\"https://www.olx.in/en-in/items/q-cars?isSearchCall=true\")\n",
    "#driver.maximize_window()"
   ]
  },
  {
   "cell_type": "code",
   "execution_count": 3,
   "id": "f66258b9",
   "metadata": {},
   "outputs": [],
   "source": [
    "driver.get(\"https://www.olx.in/en-in/items/q-cars?isSearchCall=true\")\n",
    "driver.maximize_window()"
   ]
  },
  {
   "cell_type": "code",
   "execution_count": 4,
   "id": "9f85463f",
   "metadata": {},
   "outputs": [],
   "source": [
    "driver.implicitly_wait(10)"
   ]
  },
  {
   "cell_type": "code",
   "execution_count": 5,
   "id": "9fb90e87",
   "metadata": {},
   "outputs": [],
   "source": [
    "name=[]   \n",
    "Distance=[]\n",
    "price=[]"
   ]
  },
  {
   "cell_type": "code",
   "execution_count": 6,
   "id": "ba7ae3e0",
   "metadata": {},
   "outputs": [],
   "source": [
    "# Scroll to the element using ActionChains\n",
    "#actions = ActionChains(driver)\n",
    "#actions.move_to_element(element).perform()"
   ]
  },
  {
   "cell_type": "code",
   "execution_count": 7,
   "id": "a7242a09",
   "metadata": {},
   "outputs": [],
   "source": [
    "brands = ['Maruti','Mahindra','Renault','Tata','Ford','Hyundai','Honda']"
   ]
  },
  {
   "cell_type": "code",
   "execution_count": 8,
   "id": "ab4bbcac",
   "metadata": {},
   "outputs": [
    {
     "name": "stdout",
     "output_type": "stream",
     "text": [
      "Maruti\n",
      "160\n",
      "Mahindra\n",
      "160\n",
      "Renault\n",
      "160\n",
      "Tata\n",
      "160\n",
      "Ford\n",
      "160\n",
      "Hyundai\n",
      "160\n",
      "Honda\n",
      "160\n"
     ]
    }
   ],
   "source": [
    "for brand in brands:\n",
    "    driver.get(f\"https://www.olx.in/en-in/items/q-{brand}?isSearchCall=true\")\n",
    "    driver.maximize_window()\n",
    "    page_source = driver.page_source\n",
    "    if \"Oops... we didn't find anything that matches this search\" in page_source:\n",
    "        driver.get(f\"https://www.olx.in/en-in/items/q-{brand}?isSearchCall=true\")\n",
    "    for i in range(0,7):\n",
    "        # Scroll to the element using ActionChains\n",
    "        time.sleep(3)\n",
    "        element= driver.find_element(By.XPATH, \"//button[@data-aut-id='btnLoadMore']\")\n",
    "        actions = ActionChains(driver)\n",
    "        actions.move_to_element(element).perform()      \n",
    "        driver.find_element(By.XPATH, \"//button[@data-aut-id='btnLoadMore']\").click()\n",
    "    print(brand)\n",
    "    time.sleep(5)\n",
    "    cars=driver.find_elements(By.XPATH,\"//li[@data-aut-id='itemBox']\")\n",
    "    names=driver.find_elements(By.XPATH, \"//*[contains(@data-aut-id, 'itemTitle')]\")\n",
    "    try:\n",
    "        driver.find_element(By.XPATH, \"//*[contains(@data-aut-id, 'itemSubTitle')]\").is_displayed()\n",
    "        distances=driver.find_elements(By.XPATH, \"//*[contains(@data-aut-id, 'itemSubTitle')]\")\n",
    "    except:\n",
    "        distances=driver.find_elements(By.XPATH, \"//*[contains(@data-aut-id, 'itemDetails')]\")\n",
    "    prices=driver.find_elements(By.XPATH, \"//*[contains(@data-aut-id, 'itemPrice')]\")\n",
    "    print(len(cars))\n",
    "    time.sleep(5)\n",
    "    for i in range(0,len(cars)):\n",
    "        \n",
    "        try:\n",
    "            name.append(names[i].text)      \n",
    "        except:\n",
    "            name.append('error')\n",
    "        try:\n",
    "            Distance.append(distances[i].text)\n",
    "        except:\n",
    "            Distance.append('error')\n",
    "        try:  \n",
    "            price.append(prices[i].text)    \n",
    "        except:\n",
    "            price.append('error')\n",
    "        "
   ]
  },
  {
   "cell_type": "code",
   "execution_count": 41,
   "id": "73585f71",
   "metadata": {
    "scrolled": false
   },
   "outputs": [
    {
     "data": {
      "text/html": [
       "<div>\n",
       "<style scoped>\n",
       "    .dataframe tbody tr th:only-of-type {\n",
       "        vertical-align: middle;\n",
       "    }\n",
       "\n",
       "    .dataframe tbody tr th {\n",
       "        vertical-align: top;\n",
       "    }\n",
       "\n",
       "    .dataframe thead th {\n",
       "        text-align: right;\n",
       "    }\n",
       "</style>\n",
       "<table border=\"1\" class=\"dataframe\">\n",
       "  <thead>\n",
       "    <tr style=\"text-align: right;\">\n",
       "      <th></th>\n",
       "      <th>name</th>\n",
       "      <th>Distance</th>\n",
       "      <th>price</th>\n",
       "    </tr>\n",
       "  </thead>\n",
       "  <tbody>\n",
       "    <tr>\n",
       "      <th>0</th>\n",
       "      <td>Maruti Suzuki Alto</td>\n",
       "      <td>2008 - 80,000 km</td>\n",
       "      <td>₹ 1,30,000</td>\n",
       "    </tr>\n",
       "    <tr>\n",
       "      <th>1</th>\n",
       "      <td>Maruti Suzuki Ciaz</td>\n",
       "      <td>2018 - 82,000 km</td>\n",
       "      <td>₹ 8,25,000</td>\n",
       "    </tr>\n",
       "    <tr>\n",
       "      <th>2</th>\n",
       "      <td>Maruti Suzuki Alto 800</td>\n",
       "      <td>2017 - 34000.0 km</td>\n",
       "      <td>₹ 3,00,000</td>\n",
       "    </tr>\n",
       "    <tr>\n",
       "      <th>3</th>\n",
       "      <td>Maruti Suzuki Vitara-Brezza</td>\n",
       "      <td>2018 - 43,000 km</td>\n",
       "      <td>₹ 8,51,000</td>\n",
       "    </tr>\n",
       "    <tr>\n",
       "      <th>4</th>\n",
       "      <td>Maruti Suzuki Ertiga</td>\n",
       "      <td>2016 - 74,000 km</td>\n",
       "      <td>₹ 5,90,000</td>\n",
       "    </tr>\n",
       "    <tr>\n",
       "      <th>...</th>\n",
       "      <td>...</td>\n",
       "      <td>...</td>\n",
       "      <td>...</td>\n",
       "    </tr>\n",
       "    <tr>\n",
       "      <th>1115</th>\n",
       "      <td>Open land for farm houses in a peaceful surrou...</td>\n",
       "      <td>error</td>\n",
       "      <td>error</td>\n",
       "    </tr>\n",
       "    <tr>\n",
       "      <th>1116</th>\n",
       "      <td>Honda Amaze 2013-2016 S i-Dtech, 2013, Diesel</td>\n",
       "      <td>error</td>\n",
       "      <td>error</td>\n",
       "    </tr>\n",
       "    <tr>\n",
       "      <th>1117</th>\n",
       "      <td>Honda Amaze 1.2 EMT I VTEC, 2017, Petrol</td>\n",
       "      <td>error</td>\n",
       "      <td>error</td>\n",
       "    </tr>\n",
       "    <tr>\n",
       "      <th>1118</th>\n",
       "      <td>Activa 6 G</td>\n",
       "      <td>error</td>\n",
       "      <td>error</td>\n",
       "    </tr>\n",
       "    <tr>\n",
       "      <th>1119</th>\n",
       "      <td>A good bike</td>\n",
       "      <td>error</td>\n",
       "      <td>error</td>\n",
       "    </tr>\n",
       "  </tbody>\n",
       "</table>\n",
       "<p>1120 rows × 3 columns</p>\n",
       "</div>"
      ],
      "text/plain": [
       "                                                   name           Distance  \\\n",
       "0                                    Maruti Suzuki Alto   2008 - 80,000 km   \n",
       "1                                    Maruti Suzuki Ciaz   2018 - 82,000 km   \n",
       "2                                Maruti Suzuki Alto 800  2017 - 34000.0 km   \n",
       "3                           Maruti Suzuki Vitara-Brezza   2018 - 43,000 km   \n",
       "4                                  Maruti Suzuki Ertiga   2016 - 74,000 km   \n",
       "...                                                 ...                ...   \n",
       "1115  Open land for farm houses in a peaceful surrou...              error   \n",
       "1116      Honda Amaze 2013-2016 S i-Dtech, 2013, Diesel              error   \n",
       "1117           Honda Amaze 1.2 EMT I VTEC, 2017, Petrol              error   \n",
       "1118                                         Activa 6 G              error   \n",
       "1119                                        A good bike              error   \n",
       "\n",
       "           price  \n",
       "0     ₹ 1,30,000  \n",
       "1     ₹ 8,25,000  \n",
       "2     ₹ 3,00,000  \n",
       "3     ₹ 8,51,000  \n",
       "4     ₹ 5,90,000  \n",
       "...          ...  \n",
       "1115       error  \n",
       "1116       error  \n",
       "1117       error  \n",
       "1118       error  \n",
       "1119       error  \n",
       "\n",
       "[1120 rows x 3 columns]"
      ]
     },
     "execution_count": 41,
     "metadata": {},
     "output_type": "execute_result"
    }
   ],
   "source": [
    "caz={\"name\":name,\"Distance\":Distance,\"price\":price}\n",
    "df1=pd.DataFrame(caz)\n",
    "df1"
   ]
  },
  {
   "cell_type": "code",
   "execution_count": 42,
   "id": "ad6728d0",
   "metadata": {},
   "outputs": [],
   "source": [
    "df1=df1[~df1['Distance'].str.contains('Monthly')]\n",
    "df1=df1[~df1['Distance'].str.contains('Weekly')]\n",
    "df1=df1[~df1['Distance'].str.contains('Daily')]"
   ]
  },
  {
   "cell_type": "code",
   "execution_count": 43,
   "id": "e55b0950",
   "metadata": {},
   "outputs": [],
   "source": [
    "df1=df1[~df1['Distance'].str.contains('Bds')]\n"
   ]
  },
  {
   "cell_type": "code",
   "execution_count": 44,
   "id": "d710ef0a",
   "metadata": {},
   "outputs": [],
   "source": [
    "df1=df1[df1['Distance'] != 'error']"
   ]
  },
  {
   "cell_type": "code",
   "execution_count": 45,
   "id": "aff0e83e",
   "metadata": {
    "scrolled": true
   },
   "outputs": [
    {
     "name": "stderr",
     "output_type": "stream",
     "text": [
      "C:\\Users\\PRANESH\\AppData\\Local\\Temp\\ipykernel_12936\\1806821841.py:1: FutureWarning: In a future version of pandas all arguments of StringMethods.split except for the argument 'pat' will be keyword-only.\n",
      "  df1[['Brand_name','Model']]=df1['name'].str.split(' ',1,expand=True)\n"
     ]
    }
   ],
   "source": [
    "df1[['Brand_name','Model']]=df1['name'].str.split(' ',1,expand=True)"
   ]
  },
  {
   "cell_type": "code",
   "execution_count": 46,
   "id": "53de30f4",
   "metadata": {},
   "outputs": [
    {
     "name": "stderr",
     "output_type": "stream",
     "text": [
      "C:\\Users\\PRANESH\\AppData\\Local\\Temp\\ipykernel_12936\\2810068760.py:1: FutureWarning: In a future version of pandas all arguments of StringMethods.split except for the argument 'pat' will be keyword-only.\n",
      "  df1[['Purchase_year','Kms_Driven']]=df1['Distance'].str.split('-',1,expand=True)\n"
     ]
    }
   ],
   "source": [
    "df1[['Purchase_year','Kms_Driven']]=df1['Distance'].str.split('-',1,expand=True)"
   ]
  },
  {
   "cell_type": "code",
   "execution_count": 47,
   "id": "16d1cee8",
   "metadata": {
    "scrolled": true
   },
   "outputs": [],
   "source": [
    "df1.drop(['name'],axis=1,inplace=True)"
   ]
  },
  {
   "cell_type": "code",
   "execution_count": 48,
   "id": "465e38d0",
   "metadata": {},
   "outputs": [],
   "source": [
    "df1.drop(['Distance'],axis=1,inplace=True)"
   ]
  },
  {
   "cell_type": "code",
   "execution_count": 49,
   "id": "ca0877ce",
   "metadata": {},
   "outputs": [],
   "source": [
    "df1=df1[['Brand_name','Model','Purchase_year','Kms_Driven','price']]"
   ]
  },
  {
   "cell_type": "code",
   "execution_count": 50,
   "id": "2a54cc91",
   "metadata": {},
   "outputs": [],
   "source": [
    "df=df1[df1['Purchase_year'] !='error']"
   ]
  },
  {
   "cell_type": "code",
   "execution_count": 51,
   "id": "1d785a0a",
   "metadata": {},
   "outputs": [],
   "source": [
    "df['Kms_Driven'] = df['Kms_Driven'].str.replace('km','')\n",
    "df['price'] = df['price'].str.replace('₹','')\n",
    "df['price'] = df['price'].str.replace(' ','')\n",
    "df['price'] = df['price'].str.replace(',','')\n",
    "df['Kms_Driven'] = df['Kms_Driven'].str.replace(' ','')\n",
    "df['Kms_Driven'] = df['Kms_Driven'].str.replace(',','')"
   ]
  },
  {
   "cell_type": "code",
   "execution_count": 55,
   "id": "11b9bd92",
   "metadata": {},
   "outputs": [
    {
     "data": {
      "text/plain": [
       "0       80000.0\n",
       "1       82000.0\n",
       "2       34000.0\n",
       "3       43000.0\n",
       "4       74000.0\n",
       "         ...   \n",
       "1095    22000.0\n",
       "1096    78000.0\n",
       "1097    72000.0\n",
       "1098     3461.0\n",
       "1099    73000.0\n",
       "Name: Kms_Driven, Length: 1068, dtype: float64"
      ]
     },
     "execution_count": 55,
     "metadata": {},
     "output_type": "execute_result"
    }
   ],
   "source": [
    "df['Kms_Driven'].astype('float')\n",
    "df['Purchase_year'].astype('int')\n",
    "df['price'].astype('int')"
   ]
  },
  {
   "cell_type": "code",
   "execution_count": 39,
   "id": "b791d55a",
   "metadata": {},
   "outputs": [
    {
     "data": {
      "text/html": [
       "<div>\n",
       "<style scoped>\n",
       "    .dataframe tbody tr th:only-of-type {\n",
       "        vertical-align: middle;\n",
       "    }\n",
       "\n",
       "    .dataframe tbody tr th {\n",
       "        vertical-align: top;\n",
       "    }\n",
       "\n",
       "    .dataframe thead th {\n",
       "        text-align: right;\n",
       "    }\n",
       "</style>\n",
       "<table border=\"1\" class=\"dataframe\">\n",
       "  <thead>\n",
       "    <tr style=\"text-align: right;\">\n",
       "      <th></th>\n",
       "      <th>Brand_name</th>\n",
       "      <th>Model</th>\n",
       "      <th>Purchase_year</th>\n",
       "      <th>Kms_Driven</th>\n",
       "      <th>price</th>\n",
       "    </tr>\n",
       "  </thead>\n",
       "  <tbody>\n",
       "    <tr>\n",
       "      <th>0</th>\n",
       "      <td>Maruti</td>\n",
       "      <td>Suzuki Alto</td>\n",
       "      <td>2008</td>\n",
       "      <td>80000</td>\n",
       "      <td>130000</td>\n",
       "    </tr>\n",
       "    <tr>\n",
       "      <th>1</th>\n",
       "      <td>Maruti</td>\n",
       "      <td>Suzuki Ciaz</td>\n",
       "      <td>2018</td>\n",
       "      <td>82000</td>\n",
       "      <td>825000</td>\n",
       "    </tr>\n",
       "    <tr>\n",
       "      <th>2</th>\n",
       "      <td>Maruti</td>\n",
       "      <td>Suzuki Alto 800</td>\n",
       "      <td>2017</td>\n",
       "      <td>34000.0</td>\n",
       "      <td>300000</td>\n",
       "    </tr>\n",
       "    <tr>\n",
       "      <th>3</th>\n",
       "      <td>Maruti</td>\n",
       "      <td>Suzuki Vitara-Brezza</td>\n",
       "      <td>2018</td>\n",
       "      <td>43000</td>\n",
       "      <td>851000</td>\n",
       "    </tr>\n",
       "    <tr>\n",
       "      <th>4</th>\n",
       "      <td>Maruti</td>\n",
       "      <td>Suzuki Ertiga</td>\n",
       "      <td>2016</td>\n",
       "      <td>74000</td>\n",
       "      <td>590000</td>\n",
       "    </tr>\n",
       "    <tr>\n",
       "      <th>...</th>\n",
       "      <td>...</td>\n",
       "      <td>...</td>\n",
       "      <td>...</td>\n",
       "      <td>...</td>\n",
       "      <td>...</td>\n",
       "    </tr>\n",
       "    <tr>\n",
       "      <th>1095</th>\n",
       "      <td>Honda</td>\n",
       "      <td>City ZX, 2022, Diesel</td>\n",
       "      <td>2022</td>\n",
       "      <td>22000</td>\n",
       "      <td>529999</td>\n",
       "    </tr>\n",
       "    <tr>\n",
       "      <th>1096</th>\n",
       "      <td>Honda</td>\n",
       "      <td>WR-V 1.5 VX i-DTEC, 2019, Diesel</td>\n",
       "      <td>2013</td>\n",
       "      <td>78000</td>\n",
       "      <td>790000</td>\n",
       "    </tr>\n",
       "    <tr>\n",
       "      <th>1097</th>\n",
       "      <td>Mercedes-Benz</td>\n",
       "      <td>A Class 2013-2015 A180 CDI, 2014, Diesel</td>\n",
       "      <td>2017</td>\n",
       "      <td>72000</td>\n",
       "      <td>190000</td>\n",
       "    </tr>\n",
       "    <tr>\n",
       "      <th>1098</th>\n",
       "      <td>Honda</td>\n",
       "      <td>Jazz 1.5 V i DTEC, 2016, Diesel</td>\n",
       "      <td>2022</td>\n",
       "      <td>3461</td>\n",
       "      <td>925000</td>\n",
       "    </tr>\n",
       "    <tr>\n",
       "      <th>1099</th>\n",
       "      <td>Honda</td>\n",
       "      <td>City 2011-2013 V MT, 2014, Diesel</td>\n",
       "      <td>2016</td>\n",
       "      <td>73000</td>\n",
       "      <td>780000</td>\n",
       "    </tr>\n",
       "  </tbody>\n",
       "</table>\n",
       "<p>1068 rows × 5 columns</p>\n",
       "</div>"
      ],
      "text/plain": [
       "         Brand_name                                     Model Purchase_year  \\\n",
       "0            Maruti                               Suzuki Alto         2008    \n",
       "1            Maruti                               Suzuki Ciaz         2018    \n",
       "2            Maruti                           Suzuki Alto 800         2017    \n",
       "3            Maruti                      Suzuki Vitara-Brezza         2018    \n",
       "4            Maruti                             Suzuki Ertiga         2016    \n",
       "...             ...                                       ...           ...   \n",
       "1095          Honda                     City ZX, 2022, Diesel         2022    \n",
       "1096          Honda          WR-V 1.5 VX i-DTEC, 2019, Diesel         2013    \n",
       "1097  Mercedes-Benz  A Class 2013-2015 A180 CDI, 2014, Diesel         2017    \n",
       "1098          Honda           Jazz 1.5 V i DTEC, 2016, Diesel         2022    \n",
       "1099          Honda         City 2011-2013 V MT, 2014, Diesel         2016    \n",
       "\n",
       "     Kms_Driven   price  \n",
       "0         80000  130000  \n",
       "1         82000  825000  \n",
       "2       34000.0  300000  \n",
       "3         43000  851000  \n",
       "4         74000  590000  \n",
       "...         ...     ...  \n",
       "1095      22000  529999  \n",
       "1096      78000  790000  \n",
       "1097      72000  190000  \n",
       "1098       3461  925000  \n",
       "1099      73000  780000  \n",
       "\n",
       "[1068 rows x 5 columns]"
      ]
     },
     "execution_count": 39,
     "metadata": {},
     "output_type": "execute_result"
    }
   ],
   "source": [
    "df"
   ]
  },
  {
   "cell_type": "code",
   "execution_count": 40,
   "id": "da625cc2",
   "metadata": {},
   "outputs": [],
   "source": [
    "df.to_excel(\"cars_1.xlsx\")"
   ]
  },
  {
   "cell_type": "code",
   "execution_count": null,
   "id": "b5dfe30e",
   "metadata": {},
   "outputs": [],
   "source": []
  }
 ],
 "metadata": {
  "kernelspec": {
   "display_name": "Python 3 (ipykernel)",
   "language": "python",
   "name": "python3"
  },
  "language_info": {
   "codemirror_mode": {
    "name": "ipython",
    "version": 3
   },
   "file_extension": ".py",
   "mimetype": "text/x-python",
   "name": "python",
   "nbconvert_exporter": "python",
   "pygments_lexer": "ipython3",
   "version": "3.11.3"
  }
 },
 "nbformat": 4,
 "nbformat_minor": 5
}
